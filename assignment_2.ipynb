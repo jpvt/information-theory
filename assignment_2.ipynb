{
 "cells": [
  {
   "cell_type": "code",
   "execution_count": 8,
   "metadata": {},
   "outputs": [],
   "source": [
    "# def remove_headers():\n",
    "#     for i in range(1,41):\n",
    "#         for j in range(1,11):\n",
    "#             with open(f\"test/data/orl_faces/s{i}/{j}.pgm\", \"rb\") as f:\n",
    "#                 lines = f.readlines()\n",
    "            \n",
    "#             with open(f\"test/data/processed_orl_faces/s{i}/{j}.pgm\", \"wb\") as processed_f:\n",
    "#                 processed_f.writelines(lines[3:])\n"
   ]
  },
  {
   "cell_type": "code",
   "execution_count": 22,
   "metadata": {},
   "outputs": [],
   "source": [
    "from compression.helpers import read_data\n",
    "import numpy as np"
   ]
  },
  {
   "cell_type": "code",
   "execution_count": 18,
   "metadata": {},
   "outputs": [],
   "source": [
    "def get_images():\n",
    "    images = []\n",
    "    for i in range(1,41):\n",
    "        person_images = []\n",
    "        for j in range(1,11):\n",
    "            person_images.append(read_data(f\"test/data/orl_faces/s{i}/{j}.pgm\")[0])\n",
    "        images.append(person_images)\n",
    "    return images"
   ]
  },
  {
   "cell_type": "code",
   "execution_count": 19,
   "metadata": {},
   "outputs": [],
   "source": [
    "images = get_images()"
   ]
  },
  {
   "cell_type": "code",
   "execution_count": 20,
   "metadata": {},
   "outputs": [
    {
     "data": {
      "text/plain": [
       "40"
      ]
     },
     "execution_count": 20,
     "metadata": {},
     "output_type": "execute_result"
    }
   ],
   "source": [
    "len(images)"
   ]
  },
  {
   "cell_type": "code",
   "execution_count": 26,
   "metadata": {},
   "outputs": [
    {
     "data": {
      "text/plain": [
       "8"
      ]
     },
     "execution_count": 26,
     "metadata": {},
     "output_type": "execute_result"
    }
   ],
   "source": [
    "np.random.choice(10)"
   ]
  },
  {
   "attachments": {},
   "cell_type": "markdown",
   "metadata": {},
   "source": [
    "## Cross Validation"
   ]
  },
  {
   "cell_type": "code",
   "execution_count": 36,
   "metadata": {},
   "outputs": [],
   "source": [
    "def cross_validation(images):\n",
    "    training_images = []\n",
    "    test_images = []\n",
    "\n",
    "    for i in range(0,len(images)):\n",
    "        test_index = np.random.choice(10)\n",
    "        training_images.append(images[i].pop(test_index))\n",
    "        test_images.append(images[i])\n",
    "    return training_images, test_images"
   ]
  },
  {
   "cell_type": "code",
   "execution_count": null,
   "metadata": {},
   "outputs": [],
   "source": []
  },
  {
   "attachments": {},
   "cell_type": "markdown",
   "metadata": {},
   "source": [
    "## Training"
   ]
  },
  {
   "cell_type": "code",
   "execution_count": null,
   "metadata": {},
   "outputs": [],
   "source": [
    "def train(images, dicts, k):\n",
    "    for i, person_images in enumerate(images):\n",
    "        for image in person_images:\n",
    "            for j in range(0, k):\n",
    "                dicts[i][j] += image[j]"
   ]
  },
  {
   "attachments": {},
   "cell_type": "markdown",
   "metadata": {},
   "source": [
    "## Testing"
   ]
  },
  {
   "cell_type": "code",
   "execution_count": null,
   "metadata": {},
   "outputs": [],
   "source": [
    "# Instanciates LZW \n",
    "from compression import LZW\n",
    "lzw = LZW(dictionary_k={}) # needs required dict"
   ]
  },
  {
   "cell_type": "code",
   "execution_count": 38,
   "metadata": {},
   "outputs": [],
   "source": [
    "def test(test_images, dicts, k, verbose: bool) -> float:\n",
    "\n",
    "    accuracy_result = []\n",
    "    \n",
    "    for index, image in enumerate(test_images):\n",
    "        compression_size = []\n",
    "\n",
    "        for index in range(40):\n",
    "            compression_length, _ = lzw.encode() # needs required arguments\n",
    "\n",
    "            compression_size.append(compression_length)\n",
    "\n",
    "\n",
    "        accuracy_result.append(index  == compression_size.index(min(compression_size)))\n",
    "        accuracy = 100 * accuracy_result.count(True) / len(accuracy_result)\n",
    "\n",
    "        if verbose:\n",
    "            print(f\"Modelo com acurácia para k = {k}: {accuracy}%\")\n",
    "    return accuracy "
   ]
  },
  {
   "cell_type": "code",
   "execution_count": null,
   "metadata": {},
   "outputs": [],
   "source": []
  },
  {
   "attachments": {},
   "cell_type": "markdown",
   "metadata": {},
   "source": [
    "## Running"
   ]
  },
  {
   "cell_type": "code",
   "execution_count": null,
   "metadata": {},
   "outputs": [],
   "source": [
    "def train_test():\n",
    "    pass"
   ]
  }
 ],
 "metadata": {
  "kernelspec": {
   "display_name": "base",
   "language": "python",
   "name": "python3"
  },
  "language_info": {
   "codemirror_mode": {
    "name": "ipython",
    "version": 3
   },
   "file_extension": ".py",
   "mimetype": "text/x-python",
   "name": "python",
   "nbconvert_exporter": "python",
   "pygments_lexer": "ipython3",
   "version": "3.8.10"
  },
  "orig_nbformat": 4
 },
 "nbformat": 4,
 "nbformat_minor": 2
}
