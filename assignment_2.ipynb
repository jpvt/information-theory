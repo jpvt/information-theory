{
 "cells": [
  {
   "attachments": {},
   "cell_type": "markdown",
   "metadata": {},
   "source": [
    "### Trabalho II - Introdução à Teoria da Informação\n",
    "\n",
    "*Alunos*:  Itamar Filho - 20180026510, João Pedro Teixeira - 20180028453, Igor Simões - 20220024150"
   ]
  },
  {
   "attachments": {},
   "cell_type": "markdown",
   "metadata": {},
   "source": [
    "### Reconhecimento de Padrões baseado em LZW"
   ]
  },
  {
   "attachments": {},
   "cell_type": "markdown",
   "metadata": {},
   "source": [
    "O algoritmo LZW, implementação na primeira parte do projeto, foi usado para a "
   ]
  },
  {
   "attachments": {},
   "cell_type": "markdown",
   "metadata": {},
   "source": [
    "### Leitura do banco de imagens"
   ]
  },
  {
   "attachments": {},
   "cell_type": "markdown",
   "metadata": {},
   "source": [
    "Foi feita a leitura de cada imagem presente no banco extraidos os valores dos seus pixels."
   ]
  },
  {
   "cell_type": "code",
   "execution_count": 3,
   "metadata": {},
   "outputs": [],
   "source": [
    "from compression.helpers import read_data\n",
    "import numpy as np\n",
    "import time\n",
    "import copy"
   ]
  },
  {
   "attachments": {},
   "cell_type": "markdown",
   "metadata": {},
   "source": [
    "A função abaixo é responsável por remover os cabeçalhos de todos os arquivos"
   ]
  },
  {
   "cell_type": "code",
   "execution_count": 4,
   "metadata": {},
   "outputs": [],
   "source": [
    "def remove_headers():\n",
    "    for i in range(1,41):\n",
    "        for j in range(1,11):\n",
    "            with open(f\"test/data/orl_faces/s{i}/{j}.pgm\", \"rb\") as f:\n",
    "                lines = f.readlines()\n",
    "            \n",
    "            with open(f\"test/data/processed_orl_faces/s{i}/{j}.pgm\", \"wb\") as processed_f:\n",
    "                processed_f.writelines(lines[3:])\n"
   ]
  },
  {
   "cell_type": "code",
   "execution_count": 6,
   "metadata": {},
   "outputs": [],
   "source": [
    "remove_headers()"
   ]
  },
  {
   "cell_type": "code",
   "execution_count": 7,
   "metadata": {},
   "outputs": [],
   "source": [
    "def get_images():\n",
    "    images = []\n",
    "    for i in range(1,41):\n",
    "        person_images = []\n",
    "        for j in range(1,11):\n",
    "            person_images.append(read_data(f\"test/data/processed_orl_faces/s{i}/{j}.pgm\")[0])\n",
    "        images.append(person_images)\n",
    "    return images"
   ]
  },
  {
   "attachments": {},
   "cell_type": "markdown",
   "metadata": {},
   "source": [
    "## Cross Validation"
   ]
  },
  {
   "attachments": {},
   "cell_type": "markdown",
   "metadata": {},
   "source": [
    "Neste passo, para criar o banco de dados de treino e teste, foi definida para cada pessoa, de forma aleatória, uma imagem. As 9 imagens das faces restantes foram usadas para popular os dados de treinamento"
   ]
  },
  {
   "cell_type": "code",
   "execution_count": 9,
   "metadata": {},
   "outputs": [],
   "source": [
    "def cross_validation(images):\n",
    "    training_images = []\n",
    "    testing_images = []\n",
    "\n",
    "    images_copy = copy.deepcopy(images)   \n",
    "    for i in range(0,len(images_copy)):\n",
    "        test_index = np.random.choice(10)\n",
    "        testing_images.append(images_copy[i].pop(test_index))\n",
    "        training_images.append(images_copy[i])\n",
    "    return training_images, testing_images"
   ]
  },
  {
   "attachments": {},
   "cell_type": "markdown",
   "metadata": {},
   "source": [
    "## Training"
   ]
  },
  {
   "attachments": {},
   "cell_type": "markdown",
   "metadata": {},
   "source": [
    "Para a etapa de treinamento, foi gerado um dicionário para cada pessoa baseado na partição de treino dos dados.\n",
    "\n",
    "O dicionário é preenchido com os dados de cada imagem."
   ]
  },
  {
   "cell_type": "code",
   "execution_count": 10,
   "metadata": {},
   "outputs": [],
   "source": [
    "from compression.lzw import LZW\n",
    "\n",
    "\n",
    "def train(images, dicts, k):\n",
    "    lzw = LZW(dictionary_k=k)\n",
    "    data_set = {i for i in range(2**8)}\n",
    "    for i, person_images in enumerate(images):\n",
    "        for image in person_images:\n",
    "                _, dicts[i], _ = lzw.encode(image, data_set.copy(), existing_dict=dicts[i], verbose=False, incremental=True)\n",
    "\n",
    "    return dicts"
   ]
  },
  {
   "attachments": {},
   "cell_type": "markdown",
   "metadata": {},
   "source": [
    "## Testing"
   ]
  },
  {
   "attachments": {},
   "cell_type": "markdown",
   "metadata": {},
   "source": [
    "Usando o algoritmo de compressão do LZW, o modelo foi testado com base nos 40 dicionários gerados.\n",
    "A imagem também foi identificada de acordo com a classe com melhor taxa de compressão.\n",
    "No final, é retornada a acurácia da classificação bseada na contagem de imagens classificadas de forma correta"
   ]
  },
  {
   "cell_type": "code",
   "execution_count": 11,
   "metadata": {},
   "outputs": [],
   "source": [
    "def test(test_images, dicts, k, verbose: bool) -> float:\n",
    "    lzw = LZW(dictionary_k=k)\n",
    "    data_set = {i for i in range(2**8)}\n",
    "    accuracy_result = []\n",
    "    \n",
    "    for i, image in enumerate(test_images):\n",
    "        compression_size = []\n",
    "\n",
    "        for j in range(40):\n",
    "            output, _, _ = lzw.encode(image, data_set, existing_dict=dicts[j], verbose=False, incremental=False) # needs required arguments\n",
    "            compression_size.append(len(output))\n",
    "\n",
    "        accuracy_result.append(i  == compression_size.index(min(compression_size)))\n",
    "    \n",
    "    accuracy = 100 * accuracy_result.count(True) / len(accuracy_result)\n",
    "    if verbose:\n",
    "        print(f\"Modelo com acurácia para k = {k}: {accuracy}%\")\n",
    "    return accuracy "
   ]
  },
  {
   "attachments": {},
   "cell_type": "markdown",
   "metadata": {},
   "source": [
    "## Main function"
   ]
  },
  {
   "attachments": {},
   "cell_type": "markdown",
   "metadata": {},
   "source": [
    "A função principal é responsável por invocar as funções e realizar o preenchimento dos 40 dicionários particionando os dados entre treino e teste e, de fato, retornar o resultado do teste com base no treinamento realizado. "
   ]
  },
  {
   "cell_type": "code",
   "execution_count": 12,
   "metadata": {},
   "outputs": [],
   "source": [
    "def train_test(images, k):\n",
    "    train_start = time.time()\n",
    "    dicts = []\n",
    "    data_set = {i for i in range(2**8)}\n",
    "    dictionary = {(value,): i for i, value in enumerate(data_set)}\n",
    "\n",
    "    for i in range(40):\n",
    "        dicts.append(dictionary.copy())\n",
    "\n",
    "    training_images, testing_images = cross_validation(images)\n",
    "\n",
    "    dicts = train(training_images, dicts, k)\n",
    "\n",
    "    return test(testing_images, dicts, k, verbose=True), time.time() - train_start"
   ]
  },
  {
   "attachments": {},
   "cell_type": "markdown",
   "metadata": {},
   "source": [
    "## Running"
   ]
  },
  {
   "attachments": {},
   "cell_type": "markdown",
   "metadata": {},
   "source": [
    "Nesta etapa, é realizado o objetivo final: treinamento e teste para valores de K no intervalo de 9 a 16."
   ]
  },
  {
   "cell_type": "code",
   "execution_count": 13,
   "metadata": {},
   "outputs": [
    {
     "name": "stdout",
     "output_type": "stream",
     "text": [
      "Modelo com acurácia para k = 9: 22.5%\n",
      "Modelo com acurácia para k = 10: 10.0%\n",
      "Modelo com acurácia para k = 11: 15.0%\n",
      "Modelo com acurácia para k = 12: 27.5%\n",
      "Modelo com acurácia para k = 13: 70.0%\n",
      "Modelo com acurácia para k = 14: 67.5%\n",
      "Modelo com acurácia para k = 15: 85.0%\n",
      "Modelo com acurácia para k = 16: 97.5%\n"
     ]
    }
   ],
   "source": [
    "images = get_images()\n",
    "accs = []\n",
    "times = []\n",
    "\n",
    "for k in range(9,17):\n",
    "    accuracy, training_time = train_test(images, k)\n",
    "    accs.append(accuracy)\n",
    "    times.append(training_time)"
   ]
  },
  {
   "attachments": {},
   "cell_type": "markdown",
   "metadata": {},
   "source": [
    "## Plots"
   ]
  },
  {
   "cell_type": "code",
   "execution_count": 14,
   "metadata": {},
   "outputs": [
    {
     "data": {
      "image/png": "[encoded data removed]",
      "text/plain": [
       "<Figure size 432x288 with 1 Axes>"
      ]
     },
     "metadata": {
      "needs_background": "light"
     },
     "output_type": "display_data"
    }
   ],
   "source": [
    "from matplotlib import pyplot as plt\n",
    "\n",
    "plt.plot(range(9,17), accs)\n",
    "plt.scatter(range(9,17), accs)\n",
    "plt.title('Gráfico accuracy x K')\n",
    "plt.xlabel('Valores de accuracy')\n",
    "plt.ylabel('Valores de RC')\n",
    "plt.show()"
   ]
  },
  {
   "cell_type": "code",
   "execution_count": 15,
   "metadata": {},
   "outputs": [
    {
     "data": {
      "image/png": "[encoded data removed]",
      "text/plain": [
       "<Figure size 432x288 with 1 Axes>"
      ]
     },
     "metadata": {
      "needs_background": "light"
     },
     "output_type": "display_data"
    }
   ],
   "source": [
    "plt.plot(range(9,17), times)\n",
    "plt.scatter(range(9,17), times)\n",
    "plt.title('Gráfico tempo x K')\n",
    "plt.xlabel('Valores de K')\n",
    "plt.ylabel('Valores de tempo')\n",
    "plt.tight_layout()\n",
    "plt.show()"
   ]
  },
  {
   "attachments": {},
   "cell_type": "markdown",
   "metadata": {},
   "source": [
    "### Conclusão\n",
    "\n",
    "O parâmetro K mostra-se determinante na acurácia do modelo, tendo relação proporcional. O valor de acurácia máximo obtido foi de 90% para K=15.\n",
    "O motivo dessa relação esta baseado no fato de que a codificação depende da magnitude do dicionário gerado, o que gera a possibilidade de uma quantidade maior de bytes ser traduzido em um único índice.\n",
    "\n",
    "Ainda é importante ressaltar o fator de semelhança esperada e natural entre os dados dos píxeis de uma foto da mesma pessoa e que, ao usar um dicionário da classe correspondente, o padrão será codificado na imagem de teste com menor necessidade de índices.\n",
    "Portanto, fica evidente que quanto maior o dicionário melhor a capacidade de classificação\n",
    "\n",
    "Vale ressaltar o fator tempo em função do aumento do parâmetro K, que aumenta de forma exponencial como observado no gráfico. Essa métrica não inviabiliza o uso de K maiores dado o potencial de acurácia elevada para este último caso. "
   ]
  },
  {
   "attachments": {},
   "cell_type": "markdown",
   "metadata": {},
   "source": [
    "#### Respostas das diretrizes do projeto:\n",
    "\n",
    "**1. Utilizou qual banco de dados?**\n",
    "- Foi utilizado o ORL Database of Faces\n",
    "\n",
    "**2.Se foi um banco de dados de imagem, descartou o cabeçalho do arquivo e usou apenas a sequência de pixels?**\n",
    "\n",
    "- Sim\n",
    "\n",
    "**3. Utilizou qual linguagem de programação?**\n",
    "\n",
    "- Python\n",
    "\n",
    "**4. Gerou o banco de treinamento e o arquivo de teste de forma aleatória? Ficaram quantos arquivos para treino e quantos para classificação?**\n",
    "\n",
    "- Os dados de treinamento e teste foram gerados de forma aleatória. Para cada pessoa, 1 imagem para teste e 9 para treino\n",
    "\n",
    "**5. Testou com todos os K (9 a 16 no LZW ou 0 a 8 no PPM)?**\n",
    "\n",
    "- Sim. o K variou entre 9 e 16 para o LZW.\n",
    "\n",
    "**6. O dicionário ficou estático durante a classificação?**\n",
    "\n",
    "- Sim.\n",
    "\n",
    "**7. Apresentou as curvas de Taxa de Acerto x K e de Tempo de Processamento x K? Lembrando que K deve estar no eixo X.**\n",
    "\n",
    "- Sim. Foram apresentados os gráficos.\n",
    "\n",
    "**8. Usou qual métrica de distância? Tamanho do arquivo ou quantidade de índices?** \n",
    "\n",
    "- Quantidade de índices.\n"
   ]
  }
 ],
 "metadata": {
  "kernelspec": {
   "display_name": "base",
   "language": "python",
   "name": "python3"
  },
  "language_info": {
   "codemirror_mode": {
    "name": "ipython",
    "version": 3
   },
   "file_extension": ".py",
   "mimetype": "text/x-python",
   "name": "python",
   "nbconvert_exporter": "python",
   "pygments_lexer": "ipython3",
   "version": "3.9.12"
  },
  "orig_nbformat": 4
 },
 "nbformat": 4,
 "nbformat_minor": 2
}
