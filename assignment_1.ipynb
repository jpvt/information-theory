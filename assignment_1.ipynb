{
 "cells": [
  {
   "attachments": {},
   "cell_type": "markdown",
   "metadata": {},
   "source": [
    "# Trabalho 1 - Introdução a Teoria da Informação\n",
    "\n",
    "**Alunos:** Itamar Filho - 20180026510, João Pedro Teixeira - 20180028453, Igor Simões - 20220024150\n",
    "\n",
    "**Algoritmo Utilizado:** LZW\n",
    "\n",
    "\n",
    "## Algoritmo base de Encode\n",
    "Feito com base nas aulas sobre LZW. Versão simples usando as estruturas de dados Dicionário e Tupla padrões do Python.\n",
    "\n",
    "```py\n",
    "def encode(original_data: list, original_set: set, verbose: bool = True)->tuple:\n",
    "        dictionary = {(value,): i for i, value in enumerate(original_set)}\n",
    "        output = []\n",
    "        current_arr = (original_data[0],)\n",
    "        next_idx = len(original_set)\n",
    "\n",
    "        for num in self.original_data[1:]:\n",
    "            combined_arr = current_arr + (num,)\n",
    "            if combined_arr in dictionary:\n",
    "                current_arr = combined_arr\n",
    "                continue\n",
    "            elif self.dictionary_k == -1 or len(dictionary) < 2**self.dictionary_k:\n",
    "                dictionary[combined_arr] = next_idx\n",
    "                next_idx += 1\n",
    "            output.append(dictionary[current_arr])\n",
    "            current_arr = (num,)\n",
    "\n",
    "        if current_arr:\n",
    "            output.append(dictionary[current_arr])\n",
    "            combined_arr = current_arr + (-1,)\n",
    "            if self.dictionary_k != -1 and len(dictionary) == 2**self.dictionary_k:\n",
    "                pass\n",
    "            else:\n",
    "                dictionary[combined_arr] = next_idx\n",
    "\n",
    "        return output, dictionary\n",
    "```\n",
    "\n",
    "## Algoritmo base de Decode\n",
    "Feito com base nas aulas sobre LZW. Versão simples usando as estruturas de dados Dicionário e Tupla padrões do Python.\n",
    "```py\n",
    "def decode(encoded_data: list, data_set: set, verbose: bool = True)->list:\n",
    "        reverse_dictionary = {i: (value,) for i, value in enumerate(sorted(data_set))}\n",
    "        current_arr = encoded_data[0]\n",
    "        output = [reverse_dictionary[current_arr]]\n",
    "\n",
    "        for idx in encoded_data[1:]:\n",
    "            if idx in reverse_dictionary:\n",
    "                decoded_arr = reverse_dictionary[idx]\n",
    "            else:\n",
    "                decoded_arr = reverse_dictionary[current_arr] + (reverse_dictionary[current_arr][0],)\n",
    "\n",
    "            output.append(decoded_arr)\n",
    "            combined_arr = reverse_dictionary[current_arr] + (decoded_arr[0],)\n",
    "            reverse_dictionary[len(reverse_dictionary)] = combined_arr\n",
    "            current_arr = idx\n",
    "\n",
    "        return [item for sublist in output for item in sublist]\n",
    "```"
   ]
  },
  {
   "attachments": {},
   "cell_type": "markdown",
   "metadata": {},
   "source": [
    "## Arquivo Corpus16MB.txt\n",
    "\n",
    "**Formato do arquivo:** Texto\n",
    "\n",
    "**Tamanho:** 15.6 MB \n",
    "\n",
    "### Compressão usando alfabeto adaptável\n",
    "\n",
    "```py\n",
    "from compression import LZW\n",
    "\n",
    "input_file_path = \"test/data/corpus16MB.txt\"\n",
    "output_file_path = \"test/data/encoded_corpus16MB\"\n",
    "\n",
    "lzw = LZW()\n",
    "lzw.encode_from_file(input_file_path, verbose=True)\n",
    "lzw.save_encoded_data(output_file_path)\n",
    "```"
   ]
  },
  {
   "cell_type": "code",
   "execution_count": 1,
   "metadata": {},
   "outputs": [
    {
     "name": "stdout",
     "output_type": "stream",
     "text": [
      "len dictionary/max dict = 4409226.0 len output = 2204458 len original = 15637149 len_original/len_ouput = 7.093421149325594\n"
     ]
    }
   ],
   "source": [
    "!python encode_corpus_without_k.py"
   ]
  },
  {
   "attachments": {},
   "cell_type": "markdown",
   "metadata": {},
   "source": [
    "**Tamanho do arquivo gerado:** 8.8 MB "
   ]
  },
  {
   "attachments": {},
   "cell_type": "markdown",
   "metadata": {},
   "source": [
    "### Descompressão para alfabeto adaptável\n",
    "\n",
    "```py\n",
    "from compression import LZW\n",
    "from compression.helpers import read_data\n",
    "\n",
    "LZW().decode_from_file(\"test/data/encoded_corpus16MB.bin\",\n",
    "                       \"test/data/decoded_corpus16MB.txt\")\n",
    "decoded_data, _ = read_data(\"test/data/decoded_corpus16MB.txt\", True)\n",
    "original_data, _ = read_data(\"test/data/corpus16MB.txt\", True)\n",
    "\n",
    "print(\"Verificando se arquivo decodificado é igual ao original: \",\n",
    "      decoded_data == original_data)\n",
    "\n",
    "```"
   ]
  },
  {
   "cell_type": "code",
   "execution_count": 2,
   "metadata": {},
   "outputs": [
    {
     "name": "stdout",
     "output_type": "stream",
     "text": [
      "2204458 {9, 10, 13, 32, 33, 34, 36, 37, 38, 39, 40, 41, 42, 43, 44, 45, 46, 47, 48, 49, 50, 51, 52, 53, 54, 55, 56, 57, 58, 59, 60, 61, 62, 63, 64, 65, 66, 67, 68, 69, 70, 71, 72, 73, 74, 75, 76, 77, 78, 79, 80, 81, 82, 83, 84, 85, 86, 87, 88, 89, 90, 91, 93, 95, 96, 97, 98, 99, 100, 101, 102, 103, 104, 105, 106, 107, 108, 109, 110, 111, 112, 113, 114, 115, 116, 117, 118, 119, 120, 121, 122, 123, 125, 126, 130, 133, 145, 146, 147, 148, 150, 151, 156, 167, 168, 169, 170, 171, 172, 173, 176, 180, 183, 186, 187, 189, 192, 193, 194, 195, 198, 199, 200, 201, 202, 203, 205, 211, 212, 213, 214, 218, 224, 225, 226, 227, 228, 230, 231, 232, 233, 234, 236, 237, 238, 239, 241, 242, 243, 244, 245, 249, 250, 251, 252}\n",
      "Verificando se arquivo decodificado é igual ao original:  True\n"
     ]
    }
   ],
   "source": [
    "!python decode_corpus_without_k.py"
   ]
  },
  {
   "attachments": {},
   "cell_type": "markdown",
   "metadata": {},
   "source": [
    "### Compressão com dicionário variando por k\n",
    "\n",
    "```py\n",
    "from compression import LZW\n",
    "from compression.helpers import read_data\n",
    "import os\n",
    "\n",
    "file = \"corpus16MB.txt\"\n",
    "times = []\n",
    "RC1 = []\n",
    "RC2 = []\n",
    "\n",
    "with open(f\"test/data/log_{file}.txt\", \"w\") as f:\n",
    "    f.write(f\"dict_k\\t\\t| Time\\t\\t| RC1\\t\\t| RC2\\n\")\n",
    "\n",
    "len_original_file = os.path.getsize(f\"test/data/{file}\")\n",
    "for dict_k in range(9, 17):\n",
    "    lzw = LZW(dictionary_k=dict_k)\n",
    "    output, dictionary, total_time = lzw.encode_from_file(\n",
    "        f\"test/data/{file}\", False)\n",
    "\n",
    "    times.append(total_time)\n",
    "\n",
    "    lzw.save_encoded_data(f\"test/data/varying_k/encoded_{file}\")\n",
    "    del lzw\n",
    "\n",
    "    LZW().decode_from_file(\n",
    "        f\"test/data/varying_k/encoded_{file}.{dict_k}\", f\"test/data/varying_k/decoded_{file}_with_k{dict_k}.txt\")\n",
    "    decoded_data, _ = read_data(\n",
    "        f\"test/data/varying_k/decoded_{file}_with_k{dict_k}.txt\", False)\n",
    "    original_data, _ = read_data(f\"test/data/{file}\", False)\n",
    "\n",
    "    len_encoded_file = os.path.getsize(\n",
    "        f\"test/data/varying_k/encoded_{file}.{dict_k}\")\n",
    "\n",
    "    RC1.append(len_original_file/len_encoded_file)\n",
    "    RC2.append(len_original_file/(len(output)*dict_k/8))\n",
    "\n",
    "    with open(f\"test/data/log_{file}.txt\", \"a\") as f:\n",
    "        f.write(\n",
    "            f\"{dict_k}\\t\\t| {total_time:.4}\\t\\t| {RC1[-1]:.4}\\t\\t| {RC2[-1]:.4}\\n\")\n",
    "```"
   ]
  },
  {
   "cell_type": "code",
   "execution_count": 3,
   "metadata": {},
   "outputs": [
    {
     "name": "stdout",
     "output_type": "stream",
     "text": [
      "len dictionary/max dict = 1.0 len output = 9060006 len original = 15637149 len_original/len_ouput = 1.7259534927460314\n",
      "len dictionary/max dict = 1.0 len output = 7345845 len original = 15637149 len_original/len_ouput = 2.1287066362004645\n",
      "len dictionary/max dict = 1.0 len output = 6132886 len original = 15637149 len_original/len_ouput = 2.549721126399545\n",
      "len dictionary/max dict = 1.0 len output = 5332516 len original = 15637149 len_original/len_ouput = 2.9324148300727084\n",
      "len dictionary/max dict = 1.0 len output = 4706167 len original = 15637149 len_original/len_ouput = 3.3226931810962084\n",
      "len dictionary/max dict = 1.0 len output = 4196059 len original = 15637149 len_original/len_ouput = 3.7266275331209595\n",
      "len dictionary/max dict = 1.0 len output = 3769987 len original = 15637149 len_original/len_ouput = 4.14779918339241\n",
      "len dictionary/max dict = 1.0 len output = 3397574 len original = 15637149 len_original/len_ouput = 4.602445450783412\n"
     ]
    }
   ],
   "source": [
    "!python encode_corpus_with_k.py"
   ]
  },
  {
   "attachments": {},
   "cell_type": "markdown",
   "metadata": {},
   "source": [
    "#### Gráficos variando k"
   ]
  },
  {
   "cell_type": "code",
   "execution_count": 6,
   "metadata": {},
   "outputs": [],
   "source": [
    "# Initialize empty lists for total_time, RC1 and RC2\n",
    "total_time_list = []\n",
    "RC1_list = []\n",
    "RC2_list = []\n",
    "\n",
    "# Open the file for reading\n",
    "with open('test/data/log_corpus16MB.txt.txt', 'r') as f:\n",
    "    # Read each line in the file\n",
    "    for line in f:\n",
    "        if \"dict_k\" in line:\n",
    "            continue\n",
    "        # Split the line into separate values using the tab delimiter\n",
    "        dict_k, total_time, RC1, RC2 = line.strip().split('\\t\\t| ')\n",
    "        # Append the values to their respective lists\n",
    "        total_time_list.append(float(total_time))\n",
    "        RC1_list.append(float(RC1))\n",
    "        RC2_list.append(float(RC2))"
   ]
  },
  {
   "cell_type": "code",
   "execution_count": 7,
   "metadata": {},
   "outputs": [
    {
     "data": {
      "image/png": "[encoded data removed]",
      "text/plain": [
       "<Figure size 432x288 with 2 Axes>"
      ]
     },
     "metadata": {
      "needs_background": "light"
     },
     "output_type": "display_data"
    }
   ],
   "source": [
    "from matplotlib import pyplot as plt\n",
    "\n",
    "plt.subplot(1, 2, 1)\n",
    "plt.plot(range(9,17), RC1_list)\n",
    "plt.scatter(range(9,17), RC1_list)\n",
    "plt.title('Gráfico RC-1 x K')\n",
    "plt.xlabel('Valores de K')\n",
    "plt.ylabel('Valores de RC')\n",
    "plt.subplot(1, 2, 2)\n",
    "plt.plot(range(9,17), RC2_list)\n",
    "plt.scatter(range(9,17), RC2_list)\n",
    "plt.title('Gráfico RC-2 x K')\n",
    "plt.xlabel('Valores de K')\n",
    "plt.ylabel('Valores de RC')\n",
    "plt.tight_layout()\n",
    "plt.show()"
   ]
  },
  {
   "cell_type": "code",
   "execution_count": 8,
   "metadata": {},
   "outputs": [
    {
     "data": {
      "image/png": "[encoded data removed]",
      "text/plain": [
       "<Figure size 432x288 with 1 Axes>"
      ]
     },
     "metadata": {
      "needs_background": "light"
     },
     "output_type": "display_data"
    }
   ],
   "source": [
    "plt.plot(range(9,17), total_time_list)\n",
    "plt.scatter(range(9,17), total_time_list)\n",
    "plt.title('Gráfico Tempo x K')\n",
    "plt.xlabel('Valores de K')\n",
    "plt.ylabel('Tempo de processamento (s)')\n",
    "plt.show()"
   ]
  },
  {
   "attachments": {},
   "cell_type": "markdown",
   "metadata": {},
   "source": [
    "## Arquivo disco.mp4\n",
    "\n",
    "**Formato do arquivo:** mp4\n",
    "\n",
    "**Tamanho:** 2.1 MB \n",
    "\n",
    "### Compressão usando alfabeto adaptável\n",
    "\n",
    "```py\n",
    "from compression import LZW\n",
    "\n",
    "input_file_path = \"test/data/disco.mp4\"\n",
    "output_file_path = \"test/data/encoded_disco\"\n",
    "\n",
    "lzw = LZW()\n",
    "lzw.encode_from_file(input_file_path, verbose=False)\n",
    "lzw.save_encoded_data(output_file_path)\n",
    "```"
   ]
  },
  {
   "cell_type": "code",
   "execution_count": 9,
   "metadata": {},
   "outputs": [
    {
     "name": "stdout",
     "output_type": "stream",
     "text": [
      "len dictionary/max dict = 2103648.0 len output = 1051568 len original = 2111047 len_original/len_ouput = 2.0075230512910243\n"
     ]
    }
   ],
   "source": [
    "!python encode_disco_without_k.py"
   ]
  },
  {
   "attachments": {},
   "cell_type": "markdown",
   "metadata": {},
   "source": [
    "**Tamanho do arquivo gerado:** 4.2 MB\n",
    "\n",
    "### Descompressão usando alfabeto adaptável\n",
    "\n",
    "```py\n",
    "from compression import LZW\n",
    "from compression.helpers import read_data\n",
    "\n",
    "LZW().decode_from_file(\"test/data/encoded_disco.bin\",\n",
    "                       \"test/data/decoded_disco.mp4\")\n",
    "\n",
    "decoded_data, _ = read_data(\"test/data/decoded_disco.mp4\", False)\n",
    "original_data, _ = read_data(\"test/data/disco.mp4\", False)\n",
    "\n",
    "print(\"Verificando se arquivo decodificado é igual ao original: \",\n",
    "      decoded_data == original_data)\n",
    "```"
   ]
  },
  {
   "cell_type": "code",
   "execution_count": 10,
   "metadata": {},
   "outputs": [
    {
     "name": "stdout",
     "output_type": "stream",
     "text": [
      "1051568 {0, 1, 2, 3, 4, 5, 6, 7, 8, 9, 10, 11, 12, 13, 14, 15, 16, 17, 18, 19, 20, 21, 22, 23, 24, 25, 26, 27, 28, 29, 30, 31, 32, 33, 34, 35, 36, 37, 38, 39, 40, 41, 42, 43, 44, 45, 46, 47, 48, 49, 50, 51, 52, 53, 54, 55, 56, 57, 58, 59, 60, 61, 62, 63, 64, 65, 66, 67, 68, 69, 70, 71, 72, 73, 74, 75, 76, 77, 78, 79, 80, 81, 82, 83, 84, 85, 86, 87, 88, 89, 90, 91, 92, 93, 94, 95, 96, 97, 98, 99, 100, 101, 102, 103, 104, 105, 106, 107, 108, 109, 110, 111, 112, 113, 114, 115, 116, 117, 118, 119, 120, 121, 122, 123, 124, 125, 126, 127, 128, 129, 130, 131, 132, 133, 134, 135, 136, 137, 138, 139, 140, 141, 142, 143, 144, 145, 146, 147, 148, 149, 150, 151, 152, 153, 154, 155, 156, 157, 158, 159, 160, 161, 162, 163, 164, 165, 166, 167, 168, 169, 170, 171, 172, 173, 174, 175, 176, 177, 178, 179, 180, 181, 182, 183, 184, 185, 186, 187, 188, 189, 190, 191, 192, 193, 194, 195, 196, 197, 198, 199, 200, 201, 202, 203, 204, 205, 206, 207, 208, 209, 210, 211, 212, 213, 214, 215, 216, 217, 218, 219, 220, 221, 222, 223, 224, 225, 226, 227, 228, 229, 230, 231, 232, 233, 234, 235, 236, 237, 238, 239, 240, 241, 242, 243, 244, 245, 246, 247, 248, 249, 250, 251, 252, 253, 254, 255}\n"
     ]
    }
   ],
   "source": [
    "!python decode_disco_without_k.py"
   ]
  },
  {
   "attachments": {},
   "cell_type": "markdown",
   "metadata": {},
   "source": [
    "### Compressão e Descompressão com dicionário variando por k\n",
    "\n",
    "```py\n",
    "from compression import LZW\n",
    "from compression.helpers import read_data\n",
    "import os\n",
    "\n",
    "file = \"disco.mp4\"\n",
    "times = []\n",
    "RC1 = []\n",
    "RC2 = []\n",
    "\n",
    "with open(f\"test/data/log_{file}.txt\", \"w\") as f:\n",
    "    f.write(f\"dict_k\\t\\t| Time\\t\\t| RC1\\t\\t| RC2\\n\")\n",
    "\n",
    "len_original_file = os.path.getsize(f\"test/data/{file}\")\n",
    "for dict_k in range(9, 17):\n",
    "    lzw = LZW(dictionary_k=dict_k)\n",
    "    output, dictionary, total_time = lzw.encode_from_file(\n",
    "        f\"test/data/{file}\", False)\n",
    "\n",
    "    times.append(total_time)\n",
    "\n",
    "    lzw.save_encoded_data(f\"test/data/varying_k/encoded_{file}\")\n",
    "    del lzw\n",
    "\n",
    "    LZW().decode_from_file(\n",
    "        f\"test/data/varying_k/encoded_{file}.{dict_k}\", f\"test/data/varying_k/decoded_{file}_with_k{dict_k}.txt\")\n",
    "    decoded_data, _ = read_data(\n",
    "        f\"test/data/varying_k/decoded_{file}_with_k{dict_k}.txt\", False)\n",
    "    original_data, _ = read_data(f\"test/data/{file}\", False)\n",
    "\n",
    "    len_encoded_file = os.path.getsize(\n",
    "        f\"test/data/varying_k/encoded_{file}.{dict_k}\")\n",
    "\n",
    "    RC1.append(len_original_file/len_encoded_file)\n",
    "    RC2.append(len_original_file/(len(output)*dict_k/8))\n",
    "\n",
    "    with open(f\"test/data/log_{file}.txt\", \"a\") as f:\n",
    "        f.write(\n",
    "            f\"{dict_k}\\t\\t| {total_time:.4}\\t\\t| {RC1[-1]:.4}\\t\\t| {RC2[-1]:.4}\\n\")\n",
    "\n",
    "```"
   ]
  },
  {
   "cell_type": "code",
   "execution_count": 11,
   "metadata": {},
   "outputs": [
    {
     "name": "stdout",
     "output_type": "stream",
     "text": [
      "len dictionary/max dict = 1.0 len output = 2097699 len original = 2111047 len_original/len_ouput = 1.0063631626844463\n",
      "len dictionary/max dict = 1.0 len output = 2090702 len original = 2111047 len_original/len_ouput = 1.009731181201338\n",
      "len dictionary/max dict = 1.0 len output = 2081530 len original = 2111047 len_original/len_ouput = 1.014180434584176\n",
      "len dictionary/max dict = 1.0 len output = 2069378 len original = 2111047 len_original/len_ouput = 1.0201360022190242\n",
      "len dictionary/max dict = 1.0 len output = 1959288 len original = 2111047 len_original/len_ouput = 1.0774561983741033\n",
      "len dictionary/max dict = 1.0 len output = 1772621 len original = 2111047 len_original/len_ouput = 1.1909184196734666\n",
      "len dictionary/max dict = 1.0 len output = 1520385 len original = 2111047 len_original/len_ouput = 1.3884950193536505\n",
      "len dictionary/max dict = 1.0 len output = 1289578 len original = 2111047 len_original/len_ouput = 1.6370060593465459\n"
     ]
    }
   ],
   "source": [
    "!python encode_disco_with_k.py"
   ]
  },
  {
   "attachments": {},
   "cell_type": "markdown",
   "metadata": {},
   "source": [
    "#### Gráficos variando k"
   ]
  },
  {
   "cell_type": "code",
   "execution_count": 12,
   "metadata": {},
   "outputs": [],
   "source": [
    "# Initialize empty lists for total_time, RC1 and RC2\n",
    "total_time_list = []\n",
    "RC1_list = []\n",
    "RC2_list = []\n",
    "\n",
    "# Open the file for reading\n",
    "with open('test/data/log_disco.mp4.txt', 'r') as f:\n",
    "    # Read each line in the file\n",
    "    for line in f:\n",
    "        if \"dict_k\" in line:\n",
    "            continue\n",
    "        # Split the line into separate values using the tab delimiter\n",
    "        dict_k, total_time, RC1, RC2 = line.strip().split('\\t\\t| ')\n",
    "        # Append the values to their respective lists\n",
    "        total_time_list.append(float(total_time))\n",
    "        RC1_list.append(float(RC1))\n",
    "        RC2_list.append(float(RC2))"
   ]
  },
  {
   "cell_type": "code",
   "execution_count": 13,
   "metadata": {},
   "outputs": [
    {
     "data": {
      "image/png": "[encoded data removed]",
      "text/plain": [
       "<Figure size 432x288 with 2 Axes>"
      ]
     },
     "metadata": {
      "needs_background": "light"
     },
     "output_type": "display_data"
    }
   ],
   "source": [
    "from matplotlib import pyplot as plt\n",
    "\n",
    "plt.subplot(1, 2, 1)\n",
    "plt.plot(range(9,17), RC1_list)\n",
    "plt.scatter(range(9,17), RC1_list)\n",
    "plt.title('Gráfico RC-1 x K')\n",
    "plt.xlabel('Valores de K')\n",
    "plt.ylabel('Valores de RC')\n",
    "plt.subplot(1, 2, 2)\n",
    "plt.plot(range(9,17), RC2_list)\n",
    "plt.scatter(range(9,17), RC2_list)\n",
    "plt.title('Gráfico RC-2 x K')\n",
    "plt.xlabel('Valores de K')\n",
    "plt.ylabel('Valores de RC')\n",
    "plt.tight_layout()\n",
    "plt.show()"
   ]
  },
  {
   "cell_type": "code",
   "execution_count": 14,
   "metadata": {},
   "outputs": [
    {
     "data": {
      "image/png": "[encoded data removed]",
      "text/plain": [
       "<Figure size 432x288 with 1 Axes>"
      ]
     },
     "metadata": {
      "needs_background": "light"
     },
     "output_type": "display_data"
    }
   ],
   "source": [
    "plt.plot(range(9,17), total_time_list)\n",
    "plt.scatter(range(9,17), total_time_list)\n",
    "plt.title('Gráfico Tempo x K')\n",
    "plt.xlabel('Valores de K')\n",
    "plt.ylabel('Tempo de processamento (s)')\n",
    "plt.show()"
   ]
  }
 ],
 "metadata": {
  "kernelspec": {
   "display_name": "Python 3",
   "language": "python",
   "name": "python3"
  },
  "language_info": {
   "codemirror_mode": {
    "name": "ipython",
    "version": 3
   },
   "file_extension": ".py",
   "mimetype": "text/x-python",
   "name": "python",
   "nbconvert_exporter": "python",
   "pygments_lexer": "ipython3",
   "version": "3.9.12"
  },
  "orig_nbformat": 4
 },
 "nbformat": 4,
 "nbformat_minor": 2
}
