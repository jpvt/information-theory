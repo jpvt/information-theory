{
 "cells": [
  {
   "attachments": {},
   "cell_type": "markdown",
   "metadata": {},
   "source": [
    "# Trabalho 1 - Introdução a Teoria da Informação\n",
    "\n",
    "**Alunos:** Itamar Filho - 20180026510, João Pedro Teixeira - 20180028453, Igor Simões\n",
    "\n",
    "**Algoritmo Utilizado:** LZW\n",
    "\n",
    "\n",
    "## Algoritmo base de Encode\n",
    "Feito com base nas aulas sobre LZW. Versão simples usando as estruturas de dados Dicionário e Tupla padrões do Python.\n",
    "\n",
    "```py\n",
    "def encode(original_data: list, original_set: set, verbose: bool = True)->tuple:\n",
    "        dictionary = {(value,): i for i, value in enumerate(original_set)}\n",
    "        output = []\n",
    "        current_arr = (original_data[0],)\n",
    "        next_idx = len(original_set)\n",
    "\n",
    "        for num in self.original_data[1:]:\n",
    "            combined_arr = current_arr + (num,)\n",
    "            if combined_arr in dictionary:\n",
    "                current_arr = combined_arr\n",
    "            else:\n",
    "                output.append(dictionary[current_arr])\n",
    "                dictionary[combined_arr] = next_idx\n",
    "                next_idx += 1\n",
    "                current_arr = (num,)\n",
    "\n",
    "        if current_arr:\n",
    "            output.append(dictionary[current_arr])\n",
    "            combined_arr = current_arr + (-1,)\n",
    "            dictionary[combined_arr] = next_idx\n",
    "\n",
    "        return output, dictionary\n",
    "```\n",
    "\n",
    "## Algoritmo base de Decode\n",
    "Feito com base nas aulas sobre LZW. Versão simples usando as estruturas de dados Dicionário e Tupla padrões do Python.\n",
    "```py\n",
    "def decode(encoded_data: list, data_set: set, verbose: bool = True)->list:\n",
    "        reverse_dictionary = {i: (value,) for i, value in enumerate(sorted(data_set))}\n",
    "        current_arr = encoded_data[0]\n",
    "        output = [reverse_dictionary[current_arr]]\n",
    "\n",
    "        for idx in encoded_data[1:]:\n",
    "            if idx in reverse_dictionary:\n",
    "                decoded_arr = reverse_dictionary[idx]\n",
    "            else:\n",
    "                decoded_arr = reverse_dictionary[current_arr] + (reverse_dictionary[current_arr][0],)\n",
    "\n",
    "            output.append(decoded_arr)\n",
    "            combined_arr = reverse_dictionary[current_arr] + (decoded_arr[0],)\n",
    "            reverse_dictionary[len(reverse_dictionary)] = combined_arr\n",
    "            current_arr = idx\n",
    "\n",
    "        return [item for sublist in output for item in sublist]\n",
    "```"
   ]
  },
  {
   "attachments": {},
   "cell_type": "markdown",
   "metadata": {},
   "source": [
    "## Arquivo Corpus16MB.txt\n",
    "\n",
    "**Formato do arquivo:** Texto\n",
    "\n",
    "**Tamanho:** 15.6 MB \n",
    "\n",
    "### Compressão usando alfabeto adaptável\n",
    "\n",
    "```py\n",
    "from compression import LZW\n",
    "\n",
    "input_file_path = \"test/data/corpus16MB.txt\"\n",
    "output_file_path = \"test/data/encoded_corpus16MB\"\n",
    "\n",
    "lzw = LZW()\n",
    "lzw.encode_from_file(input_file_path, verbose=True)\n",
    "lzw.save_encoded_data(output_file_path)\n",
    "```"
   ]
  },
  {
   "cell_type": "code",
   "execution_count": 27,
   "metadata": {},
   "outputs": [
    {
     "name": "stdout",
     "output_type": "stream",
     "text": [
      "8.09 s ± 159 ms per loop (mean ± std. dev. of 7 runs, 1 loop each)\n"
     ]
    }
   ],
   "source": [
    "%timeit !python encode_corpus_without_k.py"
   ]
  },
  {
   "attachments": {},
   "cell_type": "markdown",
   "metadata": {},
   "source": [
    "**Tamanho do arquivo gerado:** 10.3 MB "
   ]
  },
  {
   "attachments": {},
   "cell_type": "markdown",
   "metadata": {},
   "source": [
    "### Descompressão para alfabeto adaptável\n",
    "\n",
    "```py\n",
    "from compression import LZW\n",
    "from compression.helpers import read_data\n",
    "\n",
    "LZW().decode_from_file(\"test/data/encoded_corpus16MB.pickle\",\n",
    "                       \"test/data/decoded_corpus16MB.txt\")\n",
    "decoded_data, _ = read_data(\"test/data/decoded_corpus16MB.txt\", True)\n",
    "original_data, _ = read_data(\"test/data/corpus16MB.txt\", True)\n",
    "\n",
    "print(\"Verificando se arquivo decodificado é igual ao original: \",\n",
    "      decoded_data == original_data)\n",
    "\n",
    "```"
   ]
  },
  {
   "cell_type": "code",
   "execution_count": 28,
   "metadata": {},
   "outputs": [
    {
     "name": "stdout",
     "output_type": "stream",
     "text": [
      "Verificando se arquivo decodificado é igual ao original:  True\n",
      "Verificando se arquivo decodificado é igual ao original:  True\n",
      "Verificando se arquivo decodificado é igual ao original:  True\n",
      "Verificando se arquivo decodificado é igual ao original:  True\n",
      "Verificando se arquivo decodificado é igual ao original:  True\n",
      "Verificando se arquivo decodificado é igual ao original:  True\n",
      "Verificando se arquivo decodificado é igual ao original:  True\n",
      "Verificando se arquivo decodificado é igual ao original:  True\n",
      "6.45 s ± 151 ms per loop (mean ± std. dev. of 7 runs, 1 loop each)\n"
     ]
    }
   ],
   "source": [
    "%timeit !python decode_corpus_without_k.py"
   ]
  },
  {
   "attachments": {},
   "cell_type": "markdown",
   "metadata": {},
   "source": [
    "### Compressão com dicionário variando por k\n",
    "\n",
    "```py\n",
    "from compression import LZW\n",
    "from compression.helpers import read_data\n",
    "import os\n",
    "\n",
    "file = \"corpus16MB.txt\"\n",
    "times = []\n",
    "RC1 = []\n",
    "RC2 = []\n",
    "\n",
    "with open(f\"test/data/log_{file}.txt\", \"w\") as f:\n",
    "    f.write(f\"dict_k\\t\\t| Time\\t\\t| RC1\\t\\t| RC2\\n\")\n",
    "\n",
    "len_original_file = os.path.getsize(f\"test/data/{file}\")\n",
    "for dict_k in range(9, 17):\n",
    "    lzw = LZW(dictionary_k=dict_k)\n",
    "    output, dictionary, total_time = lzw.encode_from_file(\n",
    "        f\"test/data/{file}\", False)\n",
    "\n",
    "    times.append(total_time)\n",
    "\n",
    "    lzw.save_encoded_data(f\"test/data/varying_k/encoded_{file}\")\n",
    "    del lzw\n",
    "\n",
    "    LZW().decode_from_file(\n",
    "        f\"test/data/varying_k/encoded_{file}.{dict_k}\", f\"test/data/varying_k/decoded_{file}_with_k{dict_k}.txt\")\n",
    "    decoded_data, _ = read_data(\n",
    "        f\"test/data/varying_k/decoded_{file}_with_k{dict_k}.txt\", False)\n",
    "    original_data, _ = read_data(f\"test/data/{file}\", False)\n",
    "\n",
    "    len_encoded_file = os.path.getsize(\n",
    "        f\"test/data/varying_k/encoded_{file}.{dict_k}\")\n",
    "\n",
    "    RC1.append(len_original_file/len_encoded_file)\n",
    "    RC2.append(len_original_file/(len(output)*dict_k/8))\n",
    "\n",
    "    with open(f\"test/data/log_{file}.txt\", \"a\") as f:\n",
    "        f.write(\n",
    "            f\"{dict_k}\\t\\t| {total_time:.4}\\t\\t| {RC1[-1]:.4}\\t\\t| {RC2[-1]:.4}\\n\")\n",
    "```"
   ]
  },
  {
   "cell_type": "code",
   "execution_count": 29,
   "metadata": {},
   "outputs": [],
   "source": [
    "!python encode_corpus_with_k.py"
   ]
  },
  {
   "attachments": {},
   "cell_type": "markdown",
   "metadata": {},
   "source": [
    "#### Gráficos variando k"
   ]
  },
  {
   "cell_type": "code",
   "execution_count": 30,
   "metadata": {},
   "outputs": [],
   "source": [
    "# Initialize empty lists for total_time, RC1 and RC2\n",
    "total_time_list = []\n",
    "RC1_list = []\n",
    "RC2_list = []\n",
    "\n",
    "# Open the file for reading\n",
    "with open('test/data/log_corpus16MB.txt.txt', 'r') as f:\n",
    "    # Read each line in the file\n",
    "    for line in f:\n",
    "        if \"dict_k\" in line:\n",
    "            continue\n",
    "        # Split the line into separate values using the tab delimiter\n",
    "        dict_k, total_time, RC1, RC2 = line.strip().split('\\t\\t| ')\n",
    "        # Append the values to their respective lists\n",
    "        total_time_list.append(float(total_time))\n",
    "        RC1_list.append(float(RC1))\n",
    "        RC2_list.append(float(RC2))"
   ]
  },
  {
   "cell_type": "code",
   "execution_count": 31,
   "metadata": {},
   "outputs": [
    {
     "data": {
      "image/png": "[encoded data removed]",
      "text/plain": [
       "<Figure size 432x288 with 2 Axes>"
      ]
     },
     "metadata": {
      "needs_background": "light"
     },
     "output_type": "display_data"
    }
   ],
   "source": [
    "from matplotlib import pyplot as plt\n",
    "\n",
    "plt.subplot(1, 2, 1)\n",
    "plt.plot(range(9,17), RC1_list)\n",
    "plt.scatter(range(9,17), RC1_list)\n",
    "plt.title('Gráfico RC-1 x K')\n",
    "plt.xlabel('Valores de K')\n",
    "plt.ylabel('Valores de RC')\n",
    "plt.subplot(1, 2, 2)\n",
    "plt.plot(range(9,17), RC2_list)\n",
    "plt.scatter(range(9,17), RC2_list)\n",
    "plt.title('Gráfico RC-2 x K')\n",
    "plt.xlabel('Valores de K')\n",
    "plt.ylabel('Valores de RC')\n",
    "plt.tight_layout()\n",
    "plt.show()"
   ]
  },
  {
   "cell_type": "code",
   "execution_count": 32,
   "metadata": {},
   "outputs": [
    {
     "data": {
      "image/png": "[encoded data removed]",
      "text/plain": [
       "<Figure size 432x288 with 1 Axes>"
      ]
     },
     "metadata": {
      "needs_background": "light"
     },
     "output_type": "display_data"
    }
   ],
   "source": [
    "plt.plot(range(9,17), total_time_list)\n",
    "plt.scatter(range(9,17), total_time_list)\n",
    "plt.title('Gráfico Tempo x K')\n",
    "plt.xlabel('Valores de K')\n",
    "plt.ylabel('Tempo de processamento (s)')\n",
    "plt.show()"
   ]
  },
  {
   "attachments": {},
   "cell_type": "markdown",
   "metadata": {},
   "source": [
    "## Arquivo disco.mp4\n",
    "\n",
    "**Formato do arquivo:** mp4\n",
    "\n",
    "**Tamanho:** 2.1 MB \n",
    "\n",
    "### Compressão usando alfabeto adaptável\n",
    "\n",
    "```py\n",
    "from compression import LZW\n",
    "\n",
    "input_file_path = \"test/data/disco.mp4\"\n",
    "output_file_path = \"test/data/encoded_disco\"\n",
    "\n",
    "lzw = LZW()\n",
    "lzw.encode_from_file(input_file_path, verbose=False)\n",
    "lzw.save_encoded_data(output_file_path)\n",
    "```"
   ]
  },
  {
   "cell_type": "code",
   "execution_count": 33,
   "metadata": {},
   "outputs": [
    {
     "name": "stdout",
     "output_type": "stream",
     "text": [
      "1.33 s ± 32.6 ms per loop (mean ± std. dev. of 7 runs, 1 loop each)\n"
     ]
    }
   ],
   "source": [
    "%timeit !python encode_disco_without_k.py"
   ]
  },
  {
   "attachments": {},
   "cell_type": "markdown",
   "metadata": {},
   "source": [
    "**Tamanho do arquivo gerado:** 3.8 MB\n",
    "\n",
    "### Descompressão usando alfabeto adaptável\n",
    "\n",
    "```py\n",
    "from compression import LZW\n",
    "from compression.helpers import read_data\n",
    "\n",
    "LZW().decode_from_file(\"test/data/encoded_disco.pickle\",\n",
    "                       \"test/data/decoded_disco.mp4\")\n",
    "\n",
    "decoded_data, _ = read_data(\"test/data/decoded_disco.mp4\", False)\n",
    "original_data, _ = read_data(\"test/data/disco.mp4\", False)\n",
    "\n",
    "print(\"Verificando se arquivo decodificado é igual ao original: \",\n",
    "      decoded_data == original_data)\n",
    "```"
   ]
  },
  {
   "cell_type": "code",
   "execution_count": 34,
   "metadata": {},
   "outputs": [
    {
     "name": "stdout",
     "output_type": "stream",
     "text": [
      "Verificando se arquivo decodificado é igual ao original:  True\n",
      "Verificando se arquivo decodificado é igual ao original:  True\n",
      "Verificando se arquivo decodificado é igual ao original:  True\n",
      "Verificando se arquivo decodificado é igual ao original:  True\n",
      "Verificando se arquivo decodificado é igual ao original:  True\n",
      "Verificando se arquivo decodificado é igual ao original:  True\n",
      "Verificando se arquivo decodificado é igual ao original:  True\n",
      "Verificando se arquivo decodificado é igual ao original:  True\n",
      "1.54 s ± 21.3 ms per loop (mean ± std. dev. of 7 runs, 1 loop each)\n"
     ]
    }
   ],
   "source": [
    "%timeit !python decode_disco_without_k.py"
   ]
  },
  {
   "attachments": {},
   "cell_type": "markdown",
   "metadata": {},
   "source": [
    "### Compressão e Descompressão com dicionário variando por k\n",
    "\n",
    "```py\n",
    "from compression import LZW\n",
    "from compression.helpers import read_data\n",
    "import os\n",
    "\n",
    "file = \"disco.mp4\"\n",
    "times = []\n",
    "RC1 = []\n",
    "RC2 = []\n",
    "\n",
    "with open(f\"test/data/log_{file}.txt\", \"w\") as f:\n",
    "    f.write(f\"dict_k\\t\\t| Time\\t\\t| RC1\\t\\t| RC2\\n\")\n",
    "\n",
    "len_original_file = os.path.getsize(f\"test/data/{file}\")\n",
    "for dict_k in range(9, 17):\n",
    "    lzw = LZW(dictionary_k=dict_k)\n",
    "    output, dictionary, total_time = lzw.encode_from_file(\n",
    "        f\"test/data/{file}\", False)\n",
    "\n",
    "    times.append(total_time)\n",
    "\n",
    "    lzw.save_encoded_data(f\"test/data/varying_k/encoded_{file}\")\n",
    "    del lzw\n",
    "\n",
    "    LZW().decode_from_file(\n",
    "        f\"test/data/varying_k/encoded_{file}.{dict_k}\", f\"test/data/varying_k/decoded_{file}_with_k{dict_k}.txt\")\n",
    "    decoded_data, _ = read_data(\n",
    "        f\"test/data/varying_k/decoded_{file}_with_k{dict_k}.txt\", False)\n",
    "    original_data, _ = read_data(f\"test/data/{file}\", False)\n",
    "\n",
    "    len_encoded_file = os.path.getsize(\n",
    "        f\"test/data/varying_k/encoded_{file}.{dict_k}\")\n",
    "\n",
    "    RC1.append(len_original_file/len_encoded_file)\n",
    "    RC2.append(len_original_file/(len(output)*dict_k/8))\n",
    "\n",
    "    with open(f\"test/data/log_{file}.txt\", \"a\") as f:\n",
    "        f.write(\n",
    "            f\"{dict_k}\\t\\t| {total_time:.4}\\t\\t| {RC1[-1]:.4}\\t\\t| {RC2[-1]:.4}\\n\")\n",
    "\n",
    "```"
   ]
  },
  {
   "cell_type": "code",
   "execution_count": 35,
   "metadata": {},
   "outputs": [],
   "source": [
    "!python encode_disco_with_k.py"
   ]
  },
  {
   "attachments": {},
   "cell_type": "markdown",
   "metadata": {},
   "source": [
    "#### Gráficos variando k"
   ]
  },
  {
   "cell_type": "code",
   "execution_count": 36,
   "metadata": {},
   "outputs": [],
   "source": [
    "# Initialize empty lists for total_time, RC1 and RC2\n",
    "total_time_list = []\n",
    "RC1_list = []\n",
    "RC2_list = []\n",
    "\n",
    "# Open the file for reading\n",
    "with open('test/data/log_disco.mp4.txt', 'r') as f:\n",
    "    # Read each line in the file\n",
    "    for line in f:\n",
    "        if \"dict_k\" in line:\n",
    "            continue\n",
    "        # Split the line into separate values using the tab delimiter\n",
    "        dict_k, total_time, RC1, RC2 = line.strip().split('\\t\\t| ')\n",
    "        # Append the values to their respective lists\n",
    "        total_time_list.append(float(total_time))\n",
    "        RC1_list.append(float(RC1))\n",
    "        RC2_list.append(float(RC2))"
   ]
  },
  {
   "cell_type": "code",
   "execution_count": 37,
   "metadata": {},
   "outputs": [
    {
     "data": {
      "image/png": "[encoded data removed]",
      "text/plain": [
       "<Figure size 432x288 with 2 Axes>"
      ]
     },
     "metadata": {
      "needs_background": "light"
     },
     "output_type": "display_data"
    }
   ],
   "source": [
    "from matplotlib import pyplot as plt\n",
    "\n",
    "plt.subplot(1, 2, 1)\n",
    "plt.plot(range(9,17), RC1_list)\n",
    "plt.scatter(range(9,17), RC1_list)\n",
    "plt.title('Gráfico RC-1 x K')\n",
    "plt.xlabel('Valores de K')\n",
    "plt.ylabel('Valores de RC')\n",
    "plt.subplot(1, 2, 2)\n",
    "plt.plot(range(9,17), RC2_list)\n",
    "plt.scatter(range(9,17), RC2_list)\n",
    "plt.title('Gráfico RC-2 x K')\n",
    "plt.xlabel('Valores de K')\n",
    "plt.ylabel('Valores de RC')\n",
    "plt.tight_layout()\n",
    "plt.show()"
   ]
  },
  {
   "cell_type": "code",
   "execution_count": 38,
   "metadata": {},
   "outputs": [
    {
     "data": {
      "image/png": "[encoded data removed]",
      "text/plain": [
       "<Figure size 432x288 with 1 Axes>"
      ]
     },
     "metadata": {
      "needs_background": "light"
     },
     "output_type": "display_data"
    }
   ],
   "source": [
    "plt.plot(range(9,17), total_time_list)\n",
    "plt.scatter(range(9,17), total_time_list)\n",
    "plt.title('Gráfico Tempo x K')\n",
    "plt.xlabel('Valores de K')\n",
    "plt.ylabel('Tempo de processamento (s)')\n",
    "plt.show()"
   ]
  },
  {
   "cell_type": "markdown",
   "metadata": {},
   "source": []
  }
 ],
 "metadata": {
  "kernelspec": {
   "display_name": "Python 3",
   "language": "python",
   "name": "python3"
  },
  "language_info": {
   "codemirror_mode": {
    "name": "ipython",
    "version": 3
   },
   "file_extension": ".py",
   "mimetype": "text/x-python",
   "name": "python",
   "nbconvert_exporter": "python",
   "pygments_lexer": "ipython3",
   "version": "3.9.12"
  },
  "orig_nbformat": 4
 },
 "nbformat": 4,
 "nbformat_minor": 2
}
